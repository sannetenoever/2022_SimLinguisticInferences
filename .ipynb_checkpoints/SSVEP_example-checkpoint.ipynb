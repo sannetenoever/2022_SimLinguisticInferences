{
 "cells": [
  {
   "cell_type": "code",
   "execution_count": 3,
   "metadata": {},
   "outputs": [],
   "source": [
    "## Setting up everything\n",
    "import os\n",
    "import sys\n",
    "import matplotlib.pyplot as plt\n",
    "import numpy as np\n",
    "from numpy import matlib\n",
    "import ColorScheme as cs\n",
    "cmaps = cs.CCcolormap()\n",
    "bfi = cs.baseFigInfo()   \n",
    "import custom_modelling_sub as subfun"
   ]
  },
  {
   "cell_type": "code",
   "execution_count": 23,
   "metadata": {},
   "outputs": [
    {
     "name": "stderr",
     "output_type": "stream",
     "text": [
      "C:\\Users\\sanoev\\AppData\\Local\\Continuum\\anaconda3\\lib\\site-packages\\ipykernel_launcher.py:72: UserWarning: This figure was using constrained_layout==True, but that is incompatible with subplots_adjust and or tight_layout: setting constrained_layout==False. \n"
     ]
    },
    {
     "data": {
      "image/png": "[encoded data removed]",
      "text/plain": [
       "<Figure size 551x300 with 2 Axes>"
      ]
     },
     "metadata": {},
     "output_type": "display_data"
    }
   ],
   "source": [
    "## Do simulation of SSVEP experiment\n",
    "# Change here if you want to upsample or not\n",
    "    # 0 = do not upsample (4 Hz sampling rate)\n",
    "    # 1 = upsample to 8 Hz\n",
    "    # 2 = upsample to 12 Hz\n",
    "upsam = 2\n",
    "\n",
    "axs = list()\n",
    "fig = plt.figure(constrained_layout=True, figsize = (bfi.figsize.Col15,3))\n",
    "gs = fig.add_gridspec(2,3)\n",
    "   \n",
    "for pl in range(2):\n",
    "    # create the activation pattern\n",
    "    act = np.zeros((100,52,4))\n",
    "    # pl == 1: every fourth stimulus is the same stimulus, the rest is randomized\n",
    "    if pl == 1: \n",
    "        for it in range(act.shape[0]):\n",
    "            for it2 in range(act.shape[1]):\n",
    "                if it2%4:\n",
    "                    act[it,it2,-1]=1\n",
    "                else:\n",
    "                    x = np.random.randint(3)\n",
    "                    act[it,it2,x]=1\n",
    "    # pl == 0: all stimuli are fully random determined\n",
    "    else: \n",
    "        for it in range(act.shape[0]):\n",
    "            for it2 in range(act.shape[1]):\n",
    "                x = np.random.randint(4)\n",
    "                act[it,it2,x]=1\n",
    "        \n",
    "    # upsample if requested\n",
    "    val = act\n",
    "    if upsam == 2:\n",
    "        val2 = np.zeros([100,52*3,4])\n",
    "        val2[:,np.arange(0,52*3,3),:] = val\n",
    "        fs = 12\n",
    "    elif upsam == 1:\n",
    "        val2 = np.zeros([100,52*2,4])\n",
    "        val2[:,np.arange(0,52*2,2),:] = val\n",
    "        fs = 8\n",
    "    else:\n",
    "        val2=val\n",
    "        fs = 4\n",
    "              \n",
    "    # do the fft analysis    \n",
    "    x = np.squeeze(val2[:,:,:])\n",
    "    act = np.moveaxis(x, [0,1,2], [0,1,2])            \n",
    "    ft,freqs = subfun.ffthan_wrap(act, avgHidden = False, evoked = False, z = True, sr = fs)\n",
    "    \n",
    "    # select right frequencies\n",
    "    # set the minimum and maximum frequency to plot\n",
    "    mifoi = 0.75\n",
    "    mfoi = 4.5  \n",
    "    frinx = (freqs > mifoi) & (freqs < mfoi)\n",
    "    freqs = freqs[frinx]\n",
    "    ft = ft[frinx]  \n",
    "    \n",
    "    # plot\n",
    "    axs.append(fig.add_subplot(gs[0,pl])) \n",
    "    axs[-1].plot(freqs,ft) \n",
    "               \n",
    "    axs[-1].set_ylim([-0.4, 0.75])\n",
    "    axs[-1].set_xlim([0.75, 4.25])\n",
    "    axs[-1].set_xticks([1,2,3,4])  \n",
    "    axs[-1].set_xlabel('Frequency (Hz)')\n",
    "    \n",
    "    if pl == 0:\n",
    "        axs[-1].set_ylabel('power (z-score)') \n",
    "    else:\n",
    "        axs[-1].get_yaxis().set_visible(False)   \n",
    "        \n",
    "fig.tight_layout()    \n",
    "plt.show()\n"
   ]
  }
 ],
 "metadata": {
  "kernelspec": {
   "display_name": "Python 3",
   "language": "python",
   "name": "python3"
  },
  "language_info": {
   "codemirror_mode": {
    "name": "ipython",
    "version": 3
   },
   "file_extension": ".py",
   "mimetype": "text/x-python",
   "name": "python",
   "nbconvert_exporter": "python",
   "pygments_lexer": "ipython3",
   "version": "3.6.9"
  }
 },
 "nbformat": 4,
 "nbformat_minor": 2
}
